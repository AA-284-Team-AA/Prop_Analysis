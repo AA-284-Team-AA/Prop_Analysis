{
 "cells": [
  {
   "cell_type": "markdown",
   "metadata": {},
   "source": [
    "## Point design analysis"
   ]
  },
  {
   "cell_type": "code",
   "execution_count": 1,
   "metadata": {},
   "outputs": [],
   "source": [
    "import numpy as np\n",
    "from scipy.optimize import fsolve\n",
    "import matplotlib.pyplot as plt\n",
    "from rocketcea.cea_obj_w_units import CEA_Obj\n",
    "from rocketcea.cea_obj import add_new_fuel"
   ]
  },
  {
   "cell_type": "markdown",
   "metadata": {},
   "source": [
    "### Global definitions"
   ]
  },
  {
   "cell_type": "code",
   "execution_count": 2,
   "metadata": {},
   "outputs": [],
   "source": [
    "PSI_TO_PA = 6894.7572931783\n",
    "M_TO_IN = 39.3701\n",
    "\n",
    "# define PMMA\n",
    "card_str = '''\n",
    "fuel PMMA C 5 H 8 O 2\n",
    "h,kj=-430.5 t(k)=299.82\n",
    "''' # Greg Zilliac's recommendation for modeling PMMA\n",
    "add_new_fuel('PMMA', card_str) # rocketCEA function to add PMMA to possible inputs"
   ]
  },
  {
   "cell_type": "markdown",
   "metadata": {},
   "source": [
    "### Functions"
   ]
  },
  {
   "cell_type": "code",
   "execution_count": 41,
   "metadata": {},
   "outputs": [],
   "source": [
    "def get_CEA_results(Pc, Pe, OF):\n",
    "    C = CEA_Obj(oxName='GOX', fuelName='PMMA',\n",
    "        isp_units='sec',\n",
    "        cstar_units='m/s',\n",
    "        sonic_velocity_units='m/s')\n",
    "\n",
    "    PcOvPe = Pc/Pe\n",
    "    AR = C.get_eps_at_PcOvPe(Pc=Pc, MR=OF, PcOvPe=PcOvPe)\n",
    "    _, gam_chamber = C.get_Chamber_MolWt_gamma(Pc=Pc, MR=OF, eps=AR)\n",
    "    ISP = C.get_Isp(Pc=Pc, MR=OF, eps=AR)\n",
    "    Cstar = C.get_Cstar(Pc=Pc, MR=OF)\n",
    "    _, at, _ = C.get_SonicVelocities(Pc=Pc, MR=OF, eps=AR)\n",
    "\n",
    "    return AR, gam_chamber, ISP, Cstar, at\n",
    "\n",
    "def get_exit_pressure(Pc, gamma, AR):\n",
    "    '''\n",
    "    Find exit pressure from Pc, gam and AR.\n",
    "    '''\n",
    "    def f(x):\n",
    "        temp1 = ((gamma + 1)/2) ** (1/(gamma -1))\n",
    "        temp2 = (x/Pc) ** (1/gamma)\n",
    "        temp3 = (gamma+1) / (gamma-1)\n",
    "        temp4 = 1 - (x/Pc)**((gamma-1)/gamma);\n",
    "        return temp1*temp2*np.sqrt(temp3*temp4) - 1/AR\n",
    "    guess = 101325.\n",
    "    Pe = fsolve(f, guess, xtol=1e-10)\n",
    "    return Pe[0]\n",
    "\n",
    "def get_thrust_coeff(Pc, Pe, P0, gamma, AR):\n",
    "    temp1 = (2*gamma**2) / (gamma-1)\n",
    "    temp2 = (2/(gamma+1)) ** ((gamma+1)/(gamma-1))\n",
    "    temp3 = 1 - (Pe/Pc) ** ((gamma-1)/gamma)\n",
    "    temp4 = (Pe-P0)/Pc * AR\n",
    "    return np.sqrt(temp1 * temp2 * temp3) + temp4"
   ]
  },
  {
   "cell_type": "markdown",
   "metadata": {},
   "source": [
    "### Point design inputs"
   ]
  },
  {
   "cell_type": "code",
   "execution_count": 42,
   "metadata": {},
   "outputs": [],
   "source": [
    "Pc = 150.0 * PSI_TO_PA # chamber pressure\n",
    "Pe = 101325.0 # exit pressure\n",
    "P0 = 101325.0 # ambient pressure\n",
    "OF = 1.287 # OF ratio\n",
    "a = 8.96e-5 # regression rate\n",
    "n = 0.35 # regression rate\n",
    "rho_fuel = 1180 # fuel density\n",
    "\n",
    "eff_nozzle = 0.992 # nozzle efficiency\n",
    "eff_Cstar = 0.85 # Cstar efficiency\n",
    "\n",
    "thrust = 60 # design point thrust\n",
    "burn_time = 20 # burn time\n",
    "R_outer = 3./2. / M_TO_IN # fuel grain outer radius\n",
    "L = 18 / M_TO_IN # fuel grain length"
   ]
  },
  {
   "cell_type": "code",
   "execution_count": null,
   "metadata": {},
   "outputs": [],
   "source": [
    "# use this cell to change values from default\n",
    "\n",
    "thrust = 100\n",
    "burn_time = 15\n",
    "R_outer = 4./2. / M_TO_IN # fuel grain outer radius"
   ]
  },
  {
   "cell_type": "markdown",
   "metadata": {},
   "source": [
    "### CEA solve"
   ]
  },
  {
   "cell_type": "code",
   "execution_count": 43,
   "metadata": {},
   "outputs": [
    {
     "name": "stdout",
     "output_type": "stream",
     "text": [
      "AR                 = 2.294931\n",
      "gam in the chamber = 1.177445\n",
      "ISP                = 262.208031 [s]\n",
      "Cstar              = 1717.825601 [m/s]\n",
      "SoS at throat      = 1155.807155 [m/s]\n"
     ]
    }
   ],
   "source": [
    "AR, gam_chamber, ISP, Cstar, at = get_CEA_results(Pc, Pe, OF)\n",
    "print('AR                 = %f' % AR)\n",
    "print('gam in the chamber = %f' % gam_chamber)\n",
    "print('ISP                = %f [s]' % ISP)\n",
    "print('Cstar              = %f [m/s]' % Cstar)\n",
    "print('SoS at throat      = %f [m/s]' % at)"
   ]
  },
  {
   "cell_type": "markdown",
   "metadata": {},
   "source": [
    "### Consistency check\n",
    "Use ideal (isentropic/adiabatic) nozzle equations to check that the area ratio and $\\gamma$ are compatible with a fully expanded nozzle at atmospheric pressure given the prescribed chamber pressure."
   ]
  },
  {
   "cell_type": "code",
   "execution_count": 15,
   "metadata": {},
   "outputs": [
    {
     "name": "stdout",
     "output_type": "stream",
     "text": [
      "Solved exit pressure using ideal nozzle = 104301.146808 [Pa]\n"
     ]
    }
   ],
   "source": [
    "Pe_solved = get_exit_pressure(Pc, gam_chamber, AR)\n",
    "print('Solved exit pressure using ideal nozzle = %f [Pa]' % Pe_solved)\n",
    "rel_diff = (Pe_solved-Pe)/Pe\n",
    "assert rel_diff < 0.03, 'Error the relative difference was %f' % rel_diff"
   ]
  },
  {
   "cell_type": "markdown",
   "metadata": {},
   "source": [
    "### Get thrust coefficient and throat area\n",
    "The imposed thrust $\\dot{m}u_e + (p_e-p_0)A_e$ indirectly imposes some constraints on the absolute value of $A_e$ thus $A_t$. This allows us to compute the throat area for the required thrust."
   ]
  },
  {
   "cell_type": "code",
   "execution_count": 19,
   "metadata": {},
   "outputs": [
    {
     "name": "stdout",
     "output_type": "stream",
     "text": [
      "CF = 1.275216\n",
      "At = 0.000046 [m2]\n",
      "Rt = 0.003821 [m]\n"
     ]
    }
   ],
   "source": [
    "CF = get_thrust_coeff(Pc, Pe_solved, P0, gam_chamber, AR)\n",
    "At = thrust / (eff_nozzle * CF * Pc)\n",
    "Rt = (At / np.pi) ** (1/2)\n",
    "print('CF = %f' % CF)\n",
    "print('At = %f [m2]' % At)\n",
    "print('Rt = %f [m]' % Rt)"
   ]
  },
  {
   "cell_type": "markdown",
   "metadata": {},
   "source": [
    "### Get mass flows\n",
    "These are mass flows based on the required thrust."
   ]
  },
  {
   "cell_type": "code",
   "execution_count": 21,
   "metadata": {},
   "outputs": [
    {
     "name": "stdout",
     "output_type": "stream",
     "text": [
      "mdot      = 0.032483 [kg/m3]\n",
      "mdot_ox   = 0.018280 [kg/m3]\n",
      "mdot_fuel = 0.014203 [kg/m3]\n"
     ]
    }
   ],
   "source": [
    "mdot = Pc*At / (eff_Cstar*Cstar)\n",
    "mdot_fuel = mdot / (OF+1)\n",
    "mdot_ox = OF * mdot_fuel\n",
    "print('mdot      = %f [kg/m3]' % mdot)\n",
    "print('mdot_ox   = %f [kg/m3]' % mdot_ox)\n",
    "print('mdot_fuel = %f [kg/m3]' % mdot_fuel)"
   ]
  },
  {
   "cell_type": "markdown",
   "metadata": {},
   "source": [
    "### Fuel grain dimensions\n",
    "To achieve the previously obtained fuel mass flow, the burn surface needs to be sufficiently large. On the other hand, based on the burn time assuming constant thrust, there is a maximum allowable inner radius. \n",
    "Here we first compute $R_{i, \\mathrm{max}}^{t=0}$. Then, given our desired fuel grain length, we compute a candidate value of $R_{i}^{t=0}$ that would satisfy the desired thrust. Of course we need to have $R_{i}^{t=0} < R_{i, \\mathrm{max}}^{t=0}$."
   ]
  },
  {
   "cell_type": "code",
   "execution_count": 30,
   "metadata": {},
   "outputs": [
    {
     "name": "stdout",
     "output_type": "stream",
     "text": [
      "Fuel inner radius   = 0.014931 [m] or 0.587844 [in]\n",
      "Fuel outer radius   = 0.038100 [m] or 1.500000 [in]\n",
      "Fuel inner diameter = 0.029862 [m] or 1.175688 [in]\n",
      "R_inner_max         = 1.382032 [in]\n",
      "Final thickness     = 0.005036 [m]\n"
     ]
    }
   ],
   "source": [
    "R_inner_max = ( \\\n",
    "    R_outer**(2*n+1) - a*(2*n+1)*(mdot_ox/np.pi)**n * burn_time \\\n",
    "    ) ** (1/(2*n+1))\n",
    "R_inner = ( \\\n",
    "    mdot_f/(a*(mdot_ox/np.pi)**n) * 1./(rho_fuel*2*np.pi*L) \\\n",
    "    ) ** (1/(1-2*n))\n",
    "assert R_inner < R_inner_max, 'No valid inner radius satisfying burn time, thrust and grain length.'\n",
    "R_after_burn = ( \\\n",
    "    burn_time*a*(2*n+1)*(mdot_ox/np.pi)**n + R_inner**(2*n+1) \\\n",
    "    ) ** (1/(2*n+1))\n",
    "thickness_after_burn = R_after_burn - R_inner\n",
    "\n",
    "print('Fuel inner radius   = %f [m] or %f [in]' % (R_inner, R_inner*M_TO_IN) )\n",
    "print('Fuel outer radius   = %f [m] or %f [in]' % (R_outer, R_outer*M_TO_IN) )\n",
    "print('Fuel inner diameter = %f [m] or %f [in]' % (R_inner*2, R_inner*2*M_TO_IN) )\n",
    "print('R_inner_max         = %f [in]' % (R_inner_max*M_TO_IN))\n",
    "print('Final thickness     = %f [m]' % thickness_after_burn)"
   ]
  },
  {
   "cell_type": "markdown",
   "metadata": {},
   "source": [
    "### Get mass flow for given thrust\n",
    "For this, we first use thrust equation:\n",
    "$$ T = \\dot{m}u_e + (p_e-p_0)A_e $$\n",
    "We impose $\\mathrm{OF}$, $p_c$, $\\gamma$, $\\varepsilon$ and $A^*$. This imposes $A_e$ and $p_e=f(p_c, \\gamma, \\varepsilon)$.\n",
    "In order to get $\\dot{m}$, we thus need $u_e$. This is obtained using\n",
    "$$ u_e = \\frac{u_e}{u^*}u^* = \\frac{a_e}{a^*}M_ea^* $$\n",
    "$$ \\frac{a_e}{a^*} = \\left( \\frac{p_e}{p^*} \\right) ^ \\frac{\\gamma-1}{2\\gamma} $$\n",
    "$$ \\frac{p_c}{p^*} = \\left( \\frac{\\gamma+1}{2} \\right) ^ \\frac{\\gamma-1}{\\gamma} $$\n",
    "$$ M_e = \\sqrt{\\frac{2}{\\gamma-1} \\left( \\left( \\frac{p_c}{p_e} \\right) ^ \\frac{\\gamma-1}{\\gamma} - 1 \\right)} $$"
   ]
  },
  {
   "cell_type": "code",
   "execution_count": 48,
   "metadata": {},
   "outputs": [
    {
     "name": "stdout",
     "output_type": "stream",
     "text": [
      "0.02557385848868988\n"
     ]
    }
   ],
   "source": [
    "T = 100\n",
    "Mach_exit = np.sqrt( \\\n",
    "    2/(gam_chamber-1) * ( (Pc/Pe)**( (gam_chamber-1)/gam_chamber ) - 1) )\n",
    "tmp = (Pe/Pc)**( (gam_chamber-1)/(2*gam_chamber) ) * \\\n",
    "    ((gam_chamber+1)/2)**(1/2)\n",
    "u_exit = tmp * Mach_exit * at\n",
    "\n",
    "mdot = (T - (Pe-P0)*AR*At) / u_exit\n",
    "mdot_ox = OF/(OF+1) * mdot\n",
    "print(mdot_ox)"
   ]
  },
  {
   "cell_type": "code",
   "execution_count": 36,
   "metadata": {},
   "outputs": [
    {
     "data": {
      "text/plain": [
       "2.173671777766226"
      ]
     },
     "execution_count": 36,
     "metadata": {},
     "output_type": "execute_result"
    }
   ],
   "source": [
    "Mach_exit"
   ]
  },
  {
   "cell_type": "code",
   "execution_count": null,
   "metadata": {},
   "outputs": [],
   "source": []
  }
 ],
 "metadata": {
  "kernelspec": {
   "display_name": "Python 3",
   "language": "python",
   "name": "python3"
  },
  "language_info": {
   "codemirror_mode": {
    "name": "ipython",
    "version": 3
   },
   "file_extension": ".py",
   "mimetype": "text/x-python",
   "name": "python",
   "nbconvert_exporter": "python",
   "pygments_lexer": "ipython3",
   "version": "3.6.9"
  }
 },
 "nbformat": 4,
 "nbformat_minor": 4
}
